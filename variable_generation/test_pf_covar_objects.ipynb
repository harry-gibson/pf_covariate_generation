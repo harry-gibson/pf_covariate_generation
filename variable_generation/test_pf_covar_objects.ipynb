{
 "cells": [
  {
   "cell_type": "code",
   "execution_count": 1,
   "metadata": {
    "collapsed": false
   },
   "outputs": [],
   "source": [
    "from term import FiveKCovariateVariableTerm, TemporalAnomalyTypes"
   ]
  },
  {
   "cell_type": "code",
   "execution_count": 2,
   "metadata": {
    "collapsed": true
   },
   "outputs": [],
   "source": [
    "from raster_utilities.cubes.cube_constants import CubeLevels, SpatialSummaryTypes"
   ]
  },
  {
   "cell_type": "code",
   "execution_count": 3,
   "metadata": {
    "collapsed": true
   },
   "outputs": [],
   "source": [
    "from raster_utilities.aggregation.aggregation_values import TemporalAggregationStats, ContinuousAggregationStats"
   ]
  },
  {
   "cell_type": "code",
   "execution_count": 4,
   "metadata": {
    "collapsed": false
   },
   "outputs": [
    {
     "name": "stdout",
     "output_type": "stream",
     "text": [
      "No synoptic files found with wildcard \\\\map-fs1.ndph.ox.ac.uk\\map_data\\mastergrids\\MODIS_Global\\MOD11A2_LST\\LST_Day\\5km\\Synoptic\\LST_Day.Synoptic.*.mean.5km.mean*.tif\n"
     ]
    }
   ],
   "source": [
    "t = FiveKCovariateVariableTerm(\"Dave\",\n",
    "                              r'\\\\map-fs1.ndph.ox.ac.uk\\map_data\\mastergrids\\MODIS_Global\\MOD11A2_LST\\LST_Day',\n",
    "                              CubeLevels.MONTHLY,\n",
    "                                ContinuousAggregationStats.MEAN,\n",
    "                               TemporalAggregationStats.MEAN,\n",
    "                              TemporalAnomalyTypes.NONE,\n",
    "                              0)"
   ]
  },
  {
   "cell_type": "code",
   "execution_count": 5,
   "metadata": {
    "collapsed": false
   },
   "outputs": [
    {
     "data": {
      "text/plain": [
       "{datetime.date(2000, 3, 1): '\\\\\\\\map-fs1.ndph.ox.ac.uk\\\\map_data\\\\mastergrids\\\\MODIS_Global\\\\MOD11A2_LST\\\\LST_Day\\\\5km\\\\Monthly\\\\LST_Day.2000.03.mean.5km.mean.tif',\n",
       " datetime.date(2000, 4, 1): '\\\\\\\\map-fs1.ndph.ox.ac.uk\\\\map_data\\\\mastergrids\\\\MODIS_Global\\\\MOD11A2_LST\\\\LST_Day\\\\5km\\\\Monthly\\\\LST_Day.2000.04.mean.5km.mean.tif',\n",
       " datetime.date(2000, 5, 1): '\\\\\\\\map-fs1.ndph.ox.ac.uk\\\\map_data\\\\mastergrids\\\\MODIS_Global\\\\MOD11A2_LST\\\\LST_Day\\\\5km\\\\Monthly\\\\LST_Day.2000.05.mean.5km.mean.tif',\n",
       " datetime.date(2000, 6, 1): '\\\\\\\\map-fs1.ndph.ox.ac.uk\\\\map_data\\\\mastergrids\\\\MODIS_Global\\\\MOD11A2_LST\\\\LST_Day\\\\5km\\\\Monthly\\\\LST_Day.2000.06.mean.5km.mean.tif',\n",
       " datetime.date(2000, 7, 1): '\\\\\\\\map-fs1.ndph.ox.ac.uk\\\\map_data\\\\mastergrids\\\\MODIS_Global\\\\MOD11A2_LST\\\\LST_Day\\\\5km\\\\Monthly\\\\LST_Day.2000.07.mean.5km.mean.tif',\n",
       " datetime.date(2000, 8, 1): '\\\\\\\\map-fs1.ndph.ox.ac.uk\\\\map_data\\\\mastergrids\\\\MODIS_Global\\\\MOD11A2_LST\\\\LST_Day\\\\5km\\\\Monthly\\\\LST_Day.2000.08.mean.5km.mean.tif',\n",
       " datetime.date(2000, 9, 1): '\\\\\\\\map-fs1.ndph.ox.ac.uk\\\\map_data\\\\mastergrids\\\\MODIS_Global\\\\MOD11A2_LST\\\\LST_Day\\\\5km\\\\Monthly\\\\LST_Day.2000.09.mean.5km.mean.tif',\n",
       " datetime.date(2000, 10, 1): '\\\\\\\\map-fs1.ndph.ox.ac.uk\\\\map_data\\\\mastergrids\\\\MODIS_Global\\\\MOD11A2_LST\\\\LST_Day\\\\5km\\\\Monthly\\\\LST_Day.2000.10.mean.5km.mean.tif',\n",
       " datetime.date(2000, 11, 1): '\\\\\\\\map-fs1.ndph.ox.ac.uk\\\\map_data\\\\mastergrids\\\\MODIS_Global\\\\MOD11A2_LST\\\\LST_Day\\\\5km\\\\Monthly\\\\LST_Day.2000.11.mean.5km.mean.tif',\n",
       " datetime.date(2000, 12, 1): '\\\\\\\\map-fs1.ndph.ox.ac.uk\\\\map_data\\\\mastergrids\\\\MODIS_Global\\\\MOD11A2_LST\\\\LST_Day\\\\5km\\\\Monthly\\\\LST_Day.2000.12.mean.5km.mean.tif',\n",
       " datetime.date(2001, 1, 1): '\\\\\\\\map-fs1.ndph.ox.ac.uk\\\\map_data\\\\mastergrids\\\\MODIS_Global\\\\MOD11A2_LST\\\\LST_Day\\\\5km\\\\Monthly\\\\LST_Day.2001.01.mean.5km.mean.tif',\n",
       " datetime.date(2001, 2, 1): '\\\\\\\\map-fs1.ndph.ox.ac.uk\\\\map_data\\\\mastergrids\\\\MODIS_Global\\\\MOD11A2_LST\\\\LST_Day\\\\5km\\\\Monthly\\\\LST_Day.2001.02.mean.5km.mean.tif',\n",
       " datetime.date(2001, 3, 1): '\\\\\\\\map-fs1.ndph.ox.ac.uk\\\\map_data\\\\mastergrids\\\\MODIS_Global\\\\MOD11A2_LST\\\\LST_Day\\\\5km\\\\Monthly\\\\LST_Day.2001.03.mean.5km.mean.tif',\n",
       " datetime.date(2001, 4, 1): '\\\\\\\\map-fs1.ndph.ox.ac.uk\\\\map_data\\\\mastergrids\\\\MODIS_Global\\\\MOD11A2_LST\\\\LST_Day\\\\5km\\\\Monthly\\\\LST_Day.2001.04.mean.5km.mean.tif',\n",
       " datetime.date(2001, 5, 1): '\\\\\\\\map-fs1.ndph.ox.ac.uk\\\\map_data\\\\mastergrids\\\\MODIS_Global\\\\MOD11A2_LST\\\\LST_Day\\\\5km\\\\Monthly\\\\LST_Day.2001.05.mean.5km.mean.tif',\n",
       " datetime.date(2001, 6, 1): '\\\\\\\\map-fs1.ndph.ox.ac.uk\\\\map_data\\\\mastergrids\\\\MODIS_Global\\\\MOD11A2_LST\\\\LST_Day\\\\5km\\\\Monthly\\\\LST_Day.2001.06.mean.5km.mean.tif',\n",
       " datetime.date(2001, 7, 1): '\\\\\\\\map-fs1.ndph.ox.ac.uk\\\\map_data\\\\mastergrids\\\\MODIS_Global\\\\MOD11A2_LST\\\\LST_Day\\\\5km\\\\Monthly\\\\LST_Day.2001.07.mean.5km.mean.tif',\n",
       " datetime.date(2001, 8, 1): '\\\\\\\\map-fs1.ndph.ox.ac.uk\\\\map_data\\\\mastergrids\\\\MODIS_Global\\\\MOD11A2_LST\\\\LST_Day\\\\5km\\\\Monthly\\\\LST_Day.2001.08.mean.5km.mean.tif',\n",
       " datetime.date(2001, 9, 1): '\\\\\\\\map-fs1.ndph.ox.ac.uk\\\\map_data\\\\mastergrids\\\\MODIS_Global\\\\MOD11A2_LST\\\\LST_Day\\\\5km\\\\Monthly\\\\LST_Day.2001.09.mean.5km.mean.tif',\n",
       " datetime.date(2001, 10, 1): '\\\\\\\\map-fs1.ndph.ox.ac.uk\\\\map_data\\\\mastergrids\\\\MODIS_Global\\\\MOD11A2_LST\\\\LST_Day\\\\5km\\\\Monthly\\\\LST_Day.2001.10.mean.5km.mean.tif',\n",
       " datetime.date(2001, 11, 1): '\\\\\\\\map-fs1.ndph.ox.ac.uk\\\\map_data\\\\mastergrids\\\\MODIS_Global\\\\MOD11A2_LST\\\\LST_Day\\\\5km\\\\Monthly\\\\LST_Day.2001.11.mean.5km.mean.tif',\n",
       " datetime.date(2001, 12, 1): '\\\\\\\\map-fs1.ndph.ox.ac.uk\\\\map_data\\\\mastergrids\\\\MODIS_Global\\\\MOD11A2_LST\\\\LST_Day\\\\5km\\\\Monthly\\\\LST_Day.2001.12.mean.5km.mean.tif',\n",
       " datetime.date(2002, 1, 1): '\\\\\\\\map-fs1.ndph.ox.ac.uk\\\\map_data\\\\mastergrids\\\\MODIS_Global\\\\MOD11A2_LST\\\\LST_Day\\\\5km\\\\Monthly\\\\LST_Day.2002.01.mean.5km.mean.tif',\n",
       " datetime.date(2002, 2, 1): '\\\\\\\\map-fs1.ndph.ox.ac.uk\\\\map_data\\\\mastergrids\\\\MODIS_Global\\\\MOD11A2_LST\\\\LST_Day\\\\5km\\\\Monthly\\\\LST_Day.2002.02.mean.5km.mean.tif',\n",
       " datetime.date(2002, 3, 1): '\\\\\\\\map-fs1.ndph.ox.ac.uk\\\\map_data\\\\mastergrids\\\\MODIS_Global\\\\MOD11A2_LST\\\\LST_Day\\\\5km\\\\Monthly\\\\LST_Day.2002.03.mean.5km.mean.tif',\n",
       " datetime.date(2002, 4, 1): '\\\\\\\\map-fs1.ndph.ox.ac.uk\\\\map_data\\\\mastergrids\\\\MODIS_Global\\\\MOD11A2_LST\\\\LST_Day\\\\5km\\\\Monthly\\\\LST_Day.2002.04.mean.5km.mean.tif',\n",
       " datetime.date(2002, 5, 1): '\\\\\\\\map-fs1.ndph.ox.ac.uk\\\\map_data\\\\mastergrids\\\\MODIS_Global\\\\MOD11A2_LST\\\\LST_Day\\\\5km\\\\Monthly\\\\LST_Day.2002.05.mean.5km.mean.tif',\n",
       " datetime.date(2002, 6, 1): '\\\\\\\\map-fs1.ndph.ox.ac.uk\\\\map_data\\\\mastergrids\\\\MODIS_Global\\\\MOD11A2_LST\\\\LST_Day\\\\5km\\\\Monthly\\\\LST_Day.2002.06.mean.5km.mean.tif',\n",
       " datetime.date(2002, 7, 1): '\\\\\\\\map-fs1.ndph.ox.ac.uk\\\\map_data\\\\mastergrids\\\\MODIS_Global\\\\MOD11A2_LST\\\\LST_Day\\\\5km\\\\Monthly\\\\LST_Day.2002.07.mean.5km.mean.tif',\n",
       " datetime.date(2002, 8, 1): '\\\\\\\\map-fs1.ndph.ox.ac.uk\\\\map_data\\\\mastergrids\\\\MODIS_Global\\\\MOD11A2_LST\\\\LST_Day\\\\5km\\\\Monthly\\\\LST_Day.2002.08.mean.5km.mean.tif',\n",
       " datetime.date(2002, 9, 1): '\\\\\\\\map-fs1.ndph.ox.ac.uk\\\\map_data\\\\mastergrids\\\\MODIS_Global\\\\MOD11A2_LST\\\\LST_Day\\\\5km\\\\Monthly\\\\LST_Day.2002.09.mean.5km.mean.tif',\n",
       " datetime.date(2002, 10, 1): '\\\\\\\\map-fs1.ndph.ox.ac.uk\\\\map_data\\\\mastergrids\\\\MODIS_Global\\\\MOD11A2_LST\\\\LST_Day\\\\5km\\\\Monthly\\\\LST_Day.2002.10.mean.5km.mean.tif',\n",
       " datetime.date(2002, 11, 1): '\\\\\\\\map-fs1.ndph.ox.ac.uk\\\\map_data\\\\mastergrids\\\\MODIS_Global\\\\MOD11A2_LST\\\\LST_Day\\\\5km\\\\Monthly\\\\LST_Day.2002.11.mean.5km.mean.tif',\n",
       " datetime.date(2002, 12, 1): '\\\\\\\\map-fs1.ndph.ox.ac.uk\\\\map_data\\\\mastergrids\\\\MODIS_Global\\\\MOD11A2_LST\\\\LST_Day\\\\5km\\\\Monthly\\\\LST_Day.2002.12.mean.5km.mean.tif',\n",
       " datetime.date(2003, 1, 1): '\\\\\\\\map-fs1.ndph.ox.ac.uk\\\\map_data\\\\mastergrids\\\\MODIS_Global\\\\MOD11A2_LST\\\\LST_Day\\\\5km\\\\Monthly\\\\LST_Day.2003.01.mean.5km.mean.tif',\n",
       " datetime.date(2003, 2, 1): '\\\\\\\\map-fs1.ndph.ox.ac.uk\\\\map_data\\\\mastergrids\\\\MODIS_Global\\\\MOD11A2_LST\\\\LST_Day\\\\5km\\\\Monthly\\\\LST_Day.2003.02.mean.5km.mean.tif',\n",
       " datetime.date(2003, 3, 1): '\\\\\\\\map-fs1.ndph.ox.ac.uk\\\\map_data\\\\mastergrids\\\\MODIS_Global\\\\MOD11A2_LST\\\\LST_Day\\\\5km\\\\Monthly\\\\LST_Day.2003.03.mean.5km.mean.tif',\n",
       " datetime.date(2003, 4, 1): '\\\\\\\\map-fs1.ndph.ox.ac.uk\\\\map_data\\\\mastergrids\\\\MODIS_Global\\\\MOD11A2_LST\\\\LST_Day\\\\5km\\\\Monthly\\\\LST_Day.2003.04.mean.5km.mean.tif',\n",
       " datetime.date(2003, 5, 1): '\\\\\\\\map-fs1.ndph.ox.ac.uk\\\\map_data\\\\mastergrids\\\\MODIS_Global\\\\MOD11A2_LST\\\\LST_Day\\\\5km\\\\Monthly\\\\LST_Day.2003.05.mean.5km.mean.tif',\n",
       " datetime.date(2003, 6, 1): '\\\\\\\\map-fs1.ndph.ox.ac.uk\\\\map_data\\\\mastergrids\\\\MODIS_Global\\\\MOD11A2_LST\\\\LST_Day\\\\5km\\\\Monthly\\\\LST_Day.2003.06.mean.5km.mean.tif',\n",
       " datetime.date(2003, 7, 1): '\\\\\\\\map-fs1.ndph.ox.ac.uk\\\\map_data\\\\mastergrids\\\\MODIS_Global\\\\MOD11A2_LST\\\\LST_Day\\\\5km\\\\Monthly\\\\LST_Day.2003.07.mean.5km.mean.tif',\n",
       " datetime.date(2003, 8, 1): '\\\\\\\\map-fs1.ndph.ox.ac.uk\\\\map_data\\\\mastergrids\\\\MODIS_Global\\\\MOD11A2_LST\\\\LST_Day\\\\5km\\\\Monthly\\\\LST_Day.2003.08.mean.5km.mean.tif',\n",
       " datetime.date(2003, 9, 1): '\\\\\\\\map-fs1.ndph.ox.ac.uk\\\\map_data\\\\mastergrids\\\\MODIS_Global\\\\MOD11A2_LST\\\\LST_Day\\\\5km\\\\Monthly\\\\LST_Day.2003.09.mean.5km.mean.tif',\n",
       " datetime.date(2003, 10, 1): '\\\\\\\\map-fs1.ndph.ox.ac.uk\\\\map_data\\\\mastergrids\\\\MODIS_Global\\\\MOD11A2_LST\\\\LST_Day\\\\5km\\\\Monthly\\\\LST_Day.2003.10.mean.5km.mean.tif',\n",
       " datetime.date(2003, 11, 1): '\\\\\\\\map-fs1.ndph.ox.ac.uk\\\\map_data\\\\mastergrids\\\\MODIS_Global\\\\MOD11A2_LST\\\\LST_Day\\\\5km\\\\Monthly\\\\LST_Day.2003.11.mean.5km.mean.tif',\n",
       " datetime.date(2003, 12, 1): '\\\\\\\\map-fs1.ndph.ox.ac.uk\\\\map_data\\\\mastergrids\\\\MODIS_Global\\\\MOD11A2_LST\\\\LST_Day\\\\5km\\\\Monthly\\\\LST_Day.2003.12.mean.5km.mean.tif',\n",
       " datetime.date(2004, 1, 1): '\\\\\\\\map-fs1.ndph.ox.ac.uk\\\\map_data\\\\mastergrids\\\\MODIS_Global\\\\MOD11A2_LST\\\\LST_Day\\\\5km\\\\Monthly\\\\LST_Day.2004.01.mean.5km.mean.tif',\n",
       " datetime.date(2004, 2, 1): '\\\\\\\\map-fs1.ndph.ox.ac.uk\\\\map_data\\\\mastergrids\\\\MODIS_Global\\\\MOD11A2_LST\\\\LST_Day\\\\5km\\\\Monthly\\\\LST_Day.2004.02.mean.5km.mean.tif',\n",
       " datetime.date(2004, 3, 1): '\\\\\\\\map-fs1.ndph.ox.ac.uk\\\\map_data\\\\mastergrids\\\\MODIS_Global\\\\MOD11A2_LST\\\\LST_Day\\\\5km\\\\Monthly\\\\LST_Day.2004.03.mean.5km.mean.tif',\n",
       " datetime.date(2004, 4, 1): '\\\\\\\\map-fs1.ndph.ox.ac.uk\\\\map_data\\\\mastergrids\\\\MODIS_Global\\\\MOD11A2_LST\\\\LST_Day\\\\5km\\\\Monthly\\\\LST_Day.2004.04.mean.5km.mean.tif',\n",
       " datetime.date(2004, 5, 1): '\\\\\\\\map-fs1.ndph.ox.ac.uk\\\\map_data\\\\mastergrids\\\\MODIS_Global\\\\MOD11A2_LST\\\\LST_Day\\\\5km\\\\Monthly\\\\LST_Day.2004.05.mean.5km.mean.tif',\n",
       " datetime.date(2004, 6, 1): '\\\\\\\\map-fs1.ndph.ox.ac.uk\\\\map_data\\\\mastergrids\\\\MODIS_Global\\\\MOD11A2_LST\\\\LST_Day\\\\5km\\\\Monthly\\\\LST_Day.2004.06.mean.5km.mean.tif',\n",
       " datetime.date(2004, 7, 1): '\\\\\\\\map-fs1.ndph.ox.ac.uk\\\\map_data\\\\mastergrids\\\\MODIS_Global\\\\MOD11A2_LST\\\\LST_Day\\\\5km\\\\Monthly\\\\LST_Day.2004.07.mean.5km.mean.tif',\n",
       " datetime.date(2004, 8, 1): '\\\\\\\\map-fs1.ndph.ox.ac.uk\\\\map_data\\\\mastergrids\\\\MODIS_Global\\\\MOD11A2_LST\\\\LST_Day\\\\5km\\\\Monthly\\\\LST_Day.2004.08.mean.5km.mean.tif',\n",
       " datetime.date(2004, 9, 1): '\\\\\\\\map-fs1.ndph.ox.ac.uk\\\\map_data\\\\mastergrids\\\\MODIS_Global\\\\MOD11A2_LST\\\\LST_Day\\\\5km\\\\Monthly\\\\LST_Day.2004.09.mean.5km.mean.tif',\n",
       " datetime.date(2004, 10, 1): '\\\\\\\\map-fs1.ndph.ox.ac.uk\\\\map_data\\\\mastergrids\\\\MODIS_Global\\\\MOD11A2_LST\\\\LST_Day\\\\5km\\\\Monthly\\\\LST_Day.2004.10.mean.5km.mean.tif',\n",
       " datetime.date(2004, 11, 1): '\\\\\\\\map-fs1.ndph.ox.ac.uk\\\\map_data\\\\mastergrids\\\\MODIS_Global\\\\MOD11A2_LST\\\\LST_Day\\\\5km\\\\Monthly\\\\LST_Day.2004.11.mean.5km.mean.tif',\n",
       " datetime.date(2004, 12, 1): '\\\\\\\\map-fs1.ndph.ox.ac.uk\\\\map_data\\\\mastergrids\\\\MODIS_Global\\\\MOD11A2_LST\\\\LST_Day\\\\5km\\\\Monthly\\\\LST_Day.2004.12.mean.5km.mean.tif',\n",
       " datetime.date(2005, 1, 1): '\\\\\\\\map-fs1.ndph.ox.ac.uk\\\\map_data\\\\mastergrids\\\\MODIS_Global\\\\MOD11A2_LST\\\\LST_Day\\\\5km\\\\Monthly\\\\LST_Day.2005.01.mean.5km.mean.tif',\n",
       " datetime.date(2005, 2, 1): '\\\\\\\\map-fs1.ndph.ox.ac.uk\\\\map_data\\\\mastergrids\\\\MODIS_Global\\\\MOD11A2_LST\\\\LST_Day\\\\5km\\\\Monthly\\\\LST_Day.2005.02.mean.5km.mean.tif',\n",
       " datetime.date(2005, 3, 1): '\\\\\\\\map-fs1.ndph.ox.ac.uk\\\\map_data\\\\mastergrids\\\\MODIS_Global\\\\MOD11A2_LST\\\\LST_Day\\\\5km\\\\Monthly\\\\LST_Day.2005.03.mean.5km.mean.tif',\n",
       " datetime.date(2005, 4, 1): '\\\\\\\\map-fs1.ndph.ox.ac.uk\\\\map_data\\\\mastergrids\\\\MODIS_Global\\\\MOD11A2_LST\\\\LST_Day\\\\5km\\\\Monthly\\\\LST_Day.2005.04.mean.5km.mean.tif',\n",
       " datetime.date(2005, 5, 1): '\\\\\\\\map-fs1.ndph.ox.ac.uk\\\\map_data\\\\mastergrids\\\\MODIS_Global\\\\MOD11A2_LST\\\\LST_Day\\\\5km\\\\Monthly\\\\LST_Day.2005.05.mean.5km.mean.tif',\n",
       " datetime.date(2005, 6, 1): '\\\\\\\\map-fs1.ndph.ox.ac.uk\\\\map_data\\\\mastergrids\\\\MODIS_Global\\\\MOD11A2_LST\\\\LST_Day\\\\5km\\\\Monthly\\\\LST_Day.2005.06.mean.5km.mean.tif',\n",
       " datetime.date(2005, 7, 1): '\\\\\\\\map-fs1.ndph.ox.ac.uk\\\\map_data\\\\mastergrids\\\\MODIS_Global\\\\MOD11A2_LST\\\\LST_Day\\\\5km\\\\Monthly\\\\LST_Day.2005.07.mean.5km.mean.tif',\n",
       " datetime.date(2005, 8, 1): '\\\\\\\\map-fs1.ndph.ox.ac.uk\\\\map_data\\\\mastergrids\\\\MODIS_Global\\\\MOD11A2_LST\\\\LST_Day\\\\5km\\\\Monthly\\\\LST_Day.2005.08.mean.5km.mean.tif',\n",
       " datetime.date(2005, 9, 1): '\\\\\\\\map-fs1.ndph.ox.ac.uk\\\\map_data\\\\mastergrids\\\\MODIS_Global\\\\MOD11A2_LST\\\\LST_Day\\\\5km\\\\Monthly\\\\LST_Day.2005.09.mean.5km.mean.tif',\n",
       " datetime.date(2005, 10, 1): '\\\\\\\\map-fs1.ndph.ox.ac.uk\\\\map_data\\\\mastergrids\\\\MODIS_Global\\\\MOD11A2_LST\\\\LST_Day\\\\5km\\\\Monthly\\\\LST_Day.2005.10.mean.5km.mean.tif',\n",
       " datetime.date(2005, 11, 1): '\\\\\\\\map-fs1.ndph.ox.ac.uk\\\\map_data\\\\mastergrids\\\\MODIS_Global\\\\MOD11A2_LST\\\\LST_Day\\\\5km\\\\Monthly\\\\LST_Day.2005.11.mean.5km.mean.tif',\n",
       " datetime.date(2005, 12, 1): '\\\\\\\\map-fs1.ndph.ox.ac.uk\\\\map_data\\\\mastergrids\\\\MODIS_Global\\\\MOD11A2_LST\\\\LST_Day\\\\5km\\\\Monthly\\\\LST_Day.2005.12.mean.5km.mean.tif',\n",
       " datetime.date(2006, 1, 1): '\\\\\\\\map-fs1.ndph.ox.ac.uk\\\\map_data\\\\mastergrids\\\\MODIS_Global\\\\MOD11A2_LST\\\\LST_Day\\\\5km\\\\Monthly\\\\LST_Day.2006.01.mean.5km.mean.tif',\n",
       " datetime.date(2006, 2, 1): '\\\\\\\\map-fs1.ndph.ox.ac.uk\\\\map_data\\\\mastergrids\\\\MODIS_Global\\\\MOD11A2_LST\\\\LST_Day\\\\5km\\\\Monthly\\\\LST_Day.2006.02.mean.5km.mean.tif',\n",
       " datetime.date(2006, 3, 1): '\\\\\\\\map-fs1.ndph.ox.ac.uk\\\\map_data\\\\mastergrids\\\\MODIS_Global\\\\MOD11A2_LST\\\\LST_Day\\\\5km\\\\Monthly\\\\LST_Day.2006.03.mean.5km.mean.tif',\n",
       " datetime.date(2006, 4, 1): '\\\\\\\\map-fs1.ndph.ox.ac.uk\\\\map_data\\\\mastergrids\\\\MODIS_Global\\\\MOD11A2_LST\\\\LST_Day\\\\5km\\\\Monthly\\\\LST_Day.2006.04.mean.5km.mean.tif',\n",
       " datetime.date(2006, 5, 1): '\\\\\\\\map-fs1.ndph.ox.ac.uk\\\\map_data\\\\mastergrids\\\\MODIS_Global\\\\MOD11A2_LST\\\\LST_Day\\\\5km\\\\Monthly\\\\LST_Day.2006.05.mean.5km.mean.tif',\n",
       " datetime.date(2006, 6, 1): '\\\\\\\\map-fs1.ndph.ox.ac.uk\\\\map_data\\\\mastergrids\\\\MODIS_Global\\\\MOD11A2_LST\\\\LST_Day\\\\5km\\\\Monthly\\\\LST_Day.2006.06.mean.5km.mean.tif',\n",
       " datetime.date(2006, 7, 1): '\\\\\\\\map-fs1.ndph.ox.ac.uk\\\\map_data\\\\mastergrids\\\\MODIS_Global\\\\MOD11A2_LST\\\\LST_Day\\\\5km\\\\Monthly\\\\LST_Day.2006.07.mean.5km.mean.tif',\n",
       " datetime.date(2006, 8, 1): '\\\\\\\\map-fs1.ndph.ox.ac.uk\\\\map_data\\\\mastergrids\\\\MODIS_Global\\\\MOD11A2_LST\\\\LST_Day\\\\5km\\\\Monthly\\\\LST_Day.2006.08.mean.5km.mean.tif',\n",
       " datetime.date(2006, 9, 1): '\\\\\\\\map-fs1.ndph.ox.ac.uk\\\\map_data\\\\mastergrids\\\\MODIS_Global\\\\MOD11A2_LST\\\\LST_Day\\\\5km\\\\Monthly\\\\LST_Day.2006.09.mean.5km.mean.tif',\n",
       " datetime.date(2006, 10, 1): '\\\\\\\\map-fs1.ndph.ox.ac.uk\\\\map_data\\\\mastergrids\\\\MODIS_Global\\\\MOD11A2_LST\\\\LST_Day\\\\5km\\\\Monthly\\\\LST_Day.2006.10.mean.5km.mean.tif',\n",
       " datetime.date(2006, 11, 1): '\\\\\\\\map-fs1.ndph.ox.ac.uk\\\\map_data\\\\mastergrids\\\\MODIS_Global\\\\MOD11A2_LST\\\\LST_Day\\\\5km\\\\Monthly\\\\LST_Day.2006.11.mean.5km.mean.tif',\n",
       " datetime.date(2006, 12, 1): '\\\\\\\\map-fs1.ndph.ox.ac.uk\\\\map_data\\\\mastergrids\\\\MODIS_Global\\\\MOD11A2_LST\\\\LST_Day\\\\5km\\\\Monthly\\\\LST_Day.2006.12.mean.5km.mean.tif',\n",
       " datetime.date(2007, 1, 1): '\\\\\\\\map-fs1.ndph.ox.ac.uk\\\\map_data\\\\mastergrids\\\\MODIS_Global\\\\MOD11A2_LST\\\\LST_Day\\\\5km\\\\Monthly\\\\LST_Day.2007.01.mean.5km.mean.tif',\n",
       " datetime.date(2007, 2, 1): '\\\\\\\\map-fs1.ndph.ox.ac.uk\\\\map_data\\\\mastergrids\\\\MODIS_Global\\\\MOD11A2_LST\\\\LST_Day\\\\5km\\\\Monthly\\\\LST_Day.2007.02.mean.5km.mean.tif',\n",
       " datetime.date(2007, 3, 1): '\\\\\\\\map-fs1.ndph.ox.ac.uk\\\\map_data\\\\mastergrids\\\\MODIS_Global\\\\MOD11A2_LST\\\\LST_Day\\\\5km\\\\Monthly\\\\LST_Day.2007.03.mean.5km.mean.tif',\n",
       " datetime.date(2007, 4, 1): '\\\\\\\\map-fs1.ndph.ox.ac.uk\\\\map_data\\\\mastergrids\\\\MODIS_Global\\\\MOD11A2_LST\\\\LST_Day\\\\5km\\\\Monthly\\\\LST_Day.2007.04.mean.5km.mean.tif',\n",
       " datetime.date(2007, 5, 1): '\\\\\\\\map-fs1.ndph.ox.ac.uk\\\\map_data\\\\mastergrids\\\\MODIS_Global\\\\MOD11A2_LST\\\\LST_Day\\\\5km\\\\Monthly\\\\LST_Day.2007.05.mean.5km.mean.tif',\n",
       " datetime.date(2007, 6, 1): '\\\\\\\\map-fs1.ndph.ox.ac.uk\\\\map_data\\\\mastergrids\\\\MODIS_Global\\\\MOD11A2_LST\\\\LST_Day\\\\5km\\\\Monthly\\\\LST_Day.2007.06.mean.5km.mean.tif',\n",
       " datetime.date(2007, 7, 1): '\\\\\\\\map-fs1.ndph.ox.ac.uk\\\\map_data\\\\mastergrids\\\\MODIS_Global\\\\MOD11A2_LST\\\\LST_Day\\\\5km\\\\Monthly\\\\LST_Day.2007.07.mean.5km.mean.tif',\n",
       " datetime.date(2007, 8, 1): '\\\\\\\\map-fs1.ndph.ox.ac.uk\\\\map_data\\\\mastergrids\\\\MODIS_Global\\\\MOD11A2_LST\\\\LST_Day\\\\5km\\\\Monthly\\\\LST_Day.2007.08.mean.5km.mean.tif',\n",
       " datetime.date(2007, 9, 1): '\\\\\\\\map-fs1.ndph.ox.ac.uk\\\\map_data\\\\mastergrids\\\\MODIS_Global\\\\MOD11A2_LST\\\\LST_Day\\\\5km\\\\Monthly\\\\LST_Day.2007.09.mean.5km.mean.tif',\n",
       " datetime.date(2007, 10, 1): '\\\\\\\\map-fs1.ndph.ox.ac.uk\\\\map_data\\\\mastergrids\\\\MODIS_Global\\\\MOD11A2_LST\\\\LST_Day\\\\5km\\\\Monthly\\\\LST_Day.2007.10.mean.5km.mean.tif',\n",
       " datetime.date(2007, 11, 1): '\\\\\\\\map-fs1.ndph.ox.ac.uk\\\\map_data\\\\mastergrids\\\\MODIS_Global\\\\MOD11A2_LST\\\\LST_Day\\\\5km\\\\Monthly\\\\LST_Day.2007.11.mean.5km.mean.tif',\n",
       " datetime.date(2007, 12, 1): '\\\\\\\\map-fs1.ndph.ox.ac.uk\\\\map_data\\\\mastergrids\\\\MODIS_Global\\\\MOD11A2_LST\\\\LST_Day\\\\5km\\\\Monthly\\\\LST_Day.2007.12.mean.5km.mean.tif',\n",
       " datetime.date(2008, 1, 1): '\\\\\\\\map-fs1.ndph.ox.ac.uk\\\\map_data\\\\mastergrids\\\\MODIS_Global\\\\MOD11A2_LST\\\\LST_Day\\\\5km\\\\Monthly\\\\LST_Day.2008.01.mean.5km.mean.tif',\n",
       " datetime.date(2008, 2, 1): '\\\\\\\\map-fs1.ndph.ox.ac.uk\\\\map_data\\\\mastergrids\\\\MODIS_Global\\\\MOD11A2_LST\\\\LST_Day\\\\5km\\\\Monthly\\\\LST_Day.2008.02.mean.5km.mean.tif',\n",
       " datetime.date(2008, 3, 1): '\\\\\\\\map-fs1.ndph.ox.ac.uk\\\\map_data\\\\mastergrids\\\\MODIS_Global\\\\MOD11A2_LST\\\\LST_Day\\\\5km\\\\Monthly\\\\LST_Day.2008.03.mean.5km.mean.tif',\n",
       " datetime.date(2008, 4, 1): '\\\\\\\\map-fs1.ndph.ox.ac.uk\\\\map_data\\\\mastergrids\\\\MODIS_Global\\\\MOD11A2_LST\\\\LST_Day\\\\5km\\\\Monthly\\\\LST_Day.2008.04.mean.5km.mean.tif',\n",
       " datetime.date(2008, 5, 1): '\\\\\\\\map-fs1.ndph.ox.ac.uk\\\\map_data\\\\mastergrids\\\\MODIS_Global\\\\MOD11A2_LST\\\\LST_Day\\\\5km\\\\Monthly\\\\LST_Day.2008.05.mean.5km.mean.tif',\n",
       " datetime.date(2008, 6, 1): '\\\\\\\\map-fs1.ndph.ox.ac.uk\\\\map_data\\\\mastergrids\\\\MODIS_Global\\\\MOD11A2_LST\\\\LST_Day\\\\5km\\\\Monthly\\\\LST_Day.2008.06.mean.5km.mean.tif',\n",
       " datetime.date(2008, 7, 1): '\\\\\\\\map-fs1.ndph.ox.ac.uk\\\\map_data\\\\mastergrids\\\\MODIS_Global\\\\MOD11A2_LST\\\\LST_Day\\\\5km\\\\Monthly\\\\LST_Day.2008.07.mean.5km.mean.tif',\n",
       " datetime.date(2008, 8, 1): '\\\\\\\\map-fs1.ndph.ox.ac.uk\\\\map_data\\\\mastergrids\\\\MODIS_Global\\\\MOD11A2_LST\\\\LST_Day\\\\5km\\\\Monthly\\\\LST_Day.2008.08.mean.5km.mean.tif',\n",
       " datetime.date(2008, 9, 1): '\\\\\\\\map-fs1.ndph.ox.ac.uk\\\\map_data\\\\mastergrids\\\\MODIS_Global\\\\MOD11A2_LST\\\\LST_Day\\\\5km\\\\Monthly\\\\LST_Day.2008.09.mean.5km.mean.tif',\n",
       " datetime.date(2008, 10, 1): '\\\\\\\\map-fs1.ndph.ox.ac.uk\\\\map_data\\\\mastergrids\\\\MODIS_Global\\\\MOD11A2_LST\\\\LST_Day\\\\5km\\\\Monthly\\\\LST_Day.2008.10.mean.5km.mean.tif',\n",
       " datetime.date(2008, 11, 1): '\\\\\\\\map-fs1.ndph.ox.ac.uk\\\\map_data\\\\mastergrids\\\\MODIS_Global\\\\MOD11A2_LST\\\\LST_Day\\\\5km\\\\Monthly\\\\LST_Day.2008.11.mean.5km.mean.tif',\n",
       " datetime.date(2008, 12, 1): '\\\\\\\\map-fs1.ndph.ox.ac.uk\\\\map_data\\\\mastergrids\\\\MODIS_Global\\\\MOD11A2_LST\\\\LST_Day\\\\5km\\\\Monthly\\\\LST_Day.2008.12.mean.5km.mean.tif',\n",
       " datetime.date(2009, 1, 1): '\\\\\\\\map-fs1.ndph.ox.ac.uk\\\\map_data\\\\mastergrids\\\\MODIS_Global\\\\MOD11A2_LST\\\\LST_Day\\\\5km\\\\Monthly\\\\LST_Day.2009.01.mean.5km.mean.tif',\n",
       " datetime.date(2009, 2, 1): '\\\\\\\\map-fs1.ndph.ox.ac.uk\\\\map_data\\\\mastergrids\\\\MODIS_Global\\\\MOD11A2_LST\\\\LST_Day\\\\5km\\\\Monthly\\\\LST_Day.2009.02.mean.5km.mean.tif',\n",
       " datetime.date(2009, 3, 1): '\\\\\\\\map-fs1.ndph.ox.ac.uk\\\\map_data\\\\mastergrids\\\\MODIS_Global\\\\MOD11A2_LST\\\\LST_Day\\\\5km\\\\Monthly\\\\LST_Day.2009.03.mean.5km.mean.tif',\n",
       " datetime.date(2009, 4, 1): '\\\\\\\\map-fs1.ndph.ox.ac.uk\\\\map_data\\\\mastergrids\\\\MODIS_Global\\\\MOD11A2_LST\\\\LST_Day\\\\5km\\\\Monthly\\\\LST_Day.2009.04.mean.5km.mean.tif',\n",
       " datetime.date(2009, 5, 1): '\\\\\\\\map-fs1.ndph.ox.ac.uk\\\\map_data\\\\mastergrids\\\\MODIS_Global\\\\MOD11A2_LST\\\\LST_Day\\\\5km\\\\Monthly\\\\LST_Day.2009.05.mean.5km.mean.tif',\n",
       " datetime.date(2009, 6, 1): '\\\\\\\\map-fs1.ndph.ox.ac.uk\\\\map_data\\\\mastergrids\\\\MODIS_Global\\\\MOD11A2_LST\\\\LST_Day\\\\5km\\\\Monthly\\\\LST_Day.2009.06.mean.5km.mean.tif',\n",
       " datetime.date(2009, 7, 1): '\\\\\\\\map-fs1.ndph.ox.ac.uk\\\\map_data\\\\mastergrids\\\\MODIS_Global\\\\MOD11A2_LST\\\\LST_Day\\\\5km\\\\Monthly\\\\LST_Day.2009.07.mean.5km.mean.tif',\n",
       " datetime.date(2009, 8, 1): '\\\\\\\\map-fs1.ndph.ox.ac.uk\\\\map_data\\\\mastergrids\\\\MODIS_Global\\\\MOD11A2_LST\\\\LST_Day\\\\5km\\\\Monthly\\\\LST_Day.2009.08.mean.5km.mean.tif',\n",
       " datetime.date(2009, 9, 1): '\\\\\\\\map-fs1.ndph.ox.ac.uk\\\\map_data\\\\mastergrids\\\\MODIS_Global\\\\MOD11A2_LST\\\\LST_Day\\\\5km\\\\Monthly\\\\LST_Day.2009.09.mean.5km.mean.tif',\n",
       " datetime.date(2009, 10, 1): '\\\\\\\\map-fs1.ndph.ox.ac.uk\\\\map_data\\\\mastergrids\\\\MODIS_Global\\\\MOD11A2_LST\\\\LST_Day\\\\5km\\\\Monthly\\\\LST_Day.2009.10.mean.5km.mean.tif',\n",
       " datetime.date(2009, 11, 1): '\\\\\\\\map-fs1.ndph.ox.ac.uk\\\\map_data\\\\mastergrids\\\\MODIS_Global\\\\MOD11A2_LST\\\\LST_Day\\\\5km\\\\Monthly\\\\LST_Day.2009.11.mean.5km.mean.tif',\n",
       " datetime.date(2009, 12, 1): '\\\\\\\\map-fs1.ndph.ox.ac.uk\\\\map_data\\\\mastergrids\\\\MODIS_Global\\\\MOD11A2_LST\\\\LST_Day\\\\5km\\\\Monthly\\\\LST_Day.2009.12.mean.5km.mean.tif',\n",
       " datetime.date(2010, 1, 1): '\\\\\\\\map-fs1.ndph.ox.ac.uk\\\\map_data\\\\mastergrids\\\\MODIS_Global\\\\MOD11A2_LST\\\\LST_Day\\\\5km\\\\Monthly\\\\LST_Day.2010.01.mean.5km.mean.tif',\n",
       " datetime.date(2010, 2, 1): '\\\\\\\\map-fs1.ndph.ox.ac.uk\\\\map_data\\\\mastergrids\\\\MODIS_Global\\\\MOD11A2_LST\\\\LST_Day\\\\5km\\\\Monthly\\\\LST_Day.2010.02.mean.5km.mean.tif',\n",
       " datetime.date(2010, 3, 1): '\\\\\\\\map-fs1.ndph.ox.ac.uk\\\\map_data\\\\mastergrids\\\\MODIS_Global\\\\MOD11A2_LST\\\\LST_Day\\\\5km\\\\Monthly\\\\LST_Day.2010.03.mean.5km.mean.tif',\n",
       " datetime.date(2010, 4, 1): '\\\\\\\\map-fs1.ndph.ox.ac.uk\\\\map_data\\\\mastergrids\\\\MODIS_Global\\\\MOD11A2_LST\\\\LST_Day\\\\5km\\\\Monthly\\\\LST_Day.2010.04.mean.5km.mean.tif',\n",
       " datetime.date(2010, 5, 1): '\\\\\\\\map-fs1.ndph.ox.ac.uk\\\\map_data\\\\mastergrids\\\\MODIS_Global\\\\MOD11A2_LST\\\\LST_Day\\\\5km\\\\Monthly\\\\LST_Day.2010.05.mean.5km.mean.tif',\n",
       " datetime.date(2010, 6, 1): '\\\\\\\\map-fs1.ndph.ox.ac.uk\\\\map_data\\\\mastergrids\\\\MODIS_Global\\\\MOD11A2_LST\\\\LST_Day\\\\5km\\\\Monthly\\\\LST_Day.2010.06.mean.5km.mean.tif',\n",
       " datetime.date(2010, 7, 1): '\\\\\\\\map-fs1.ndph.ox.ac.uk\\\\map_data\\\\mastergrids\\\\MODIS_Global\\\\MOD11A2_LST\\\\LST_Day\\\\5km\\\\Monthly\\\\LST_Day.2010.07.mean.5km.mean.tif',\n",
       " datetime.date(2010, 8, 1): '\\\\\\\\map-fs1.ndph.ox.ac.uk\\\\map_data\\\\mastergrids\\\\MODIS_Global\\\\MOD11A2_LST\\\\LST_Day\\\\5km\\\\Monthly\\\\LST_Day.2010.08.mean.5km.mean.tif',\n",
       " datetime.date(2010, 9, 1): '\\\\\\\\map-fs1.ndph.ox.ac.uk\\\\map_data\\\\mastergrids\\\\MODIS_Global\\\\MOD11A2_LST\\\\LST_Day\\\\5km\\\\Monthly\\\\LST_Day.2010.09.mean.5km.mean.tif',\n",
       " datetime.date(2010, 10, 1): '\\\\\\\\map-fs1.ndph.ox.ac.uk\\\\map_data\\\\mastergrids\\\\MODIS_Global\\\\MOD11A2_LST\\\\LST_Day\\\\5km\\\\Monthly\\\\LST_Day.2010.10.mean.5km.mean.tif',\n",
       " datetime.date(2010, 11, 1): '\\\\\\\\map-fs1.ndph.ox.ac.uk\\\\map_data\\\\mastergrids\\\\MODIS_Global\\\\MOD11A2_LST\\\\LST_Day\\\\5km\\\\Monthly\\\\LST_Day.2010.11.mean.5km.mean.tif',\n",
       " datetime.date(2010, 12, 1): '\\\\\\\\map-fs1.ndph.ox.ac.uk\\\\map_data\\\\mastergrids\\\\MODIS_Global\\\\MOD11A2_LST\\\\LST_Day\\\\5km\\\\Monthly\\\\LST_Day.2010.12.mean.5km.mean.tif',\n",
       " datetime.date(2011, 1, 1): '\\\\\\\\map-fs1.ndph.ox.ac.uk\\\\map_data\\\\mastergrids\\\\MODIS_Global\\\\MOD11A2_LST\\\\LST_Day\\\\5km\\\\Monthly\\\\LST_Day.2011.01.mean.5km.mean.tif',\n",
       " datetime.date(2011, 2, 1): '\\\\\\\\map-fs1.ndph.ox.ac.uk\\\\map_data\\\\mastergrids\\\\MODIS_Global\\\\MOD11A2_LST\\\\LST_Day\\\\5km\\\\Monthly\\\\LST_Day.2011.02.mean.5km.mean.tif',\n",
       " datetime.date(2011, 3, 1): '\\\\\\\\map-fs1.ndph.ox.ac.uk\\\\map_data\\\\mastergrids\\\\MODIS_Global\\\\MOD11A2_LST\\\\LST_Day\\\\5km\\\\Monthly\\\\LST_Day.2011.03.mean.5km.mean.tif',\n",
       " datetime.date(2011, 4, 1): '\\\\\\\\map-fs1.ndph.ox.ac.uk\\\\map_data\\\\mastergrids\\\\MODIS_Global\\\\MOD11A2_LST\\\\LST_Day\\\\5km\\\\Monthly\\\\LST_Day.2011.04.mean.5km.mean.tif',\n",
       " datetime.date(2011, 5, 1): '\\\\\\\\map-fs1.ndph.ox.ac.uk\\\\map_data\\\\mastergrids\\\\MODIS_Global\\\\MOD11A2_LST\\\\LST_Day\\\\5km\\\\Monthly\\\\LST_Day.2011.05.mean.5km.mean.tif',\n",
       " datetime.date(2011, 6, 1): '\\\\\\\\map-fs1.ndph.ox.ac.uk\\\\map_data\\\\mastergrids\\\\MODIS_Global\\\\MOD11A2_LST\\\\LST_Day\\\\5km\\\\Monthly\\\\LST_Day.2011.06.mean.5km.mean.tif',\n",
       " datetime.date(2011, 7, 1): '\\\\\\\\map-fs1.ndph.ox.ac.uk\\\\map_data\\\\mastergrids\\\\MODIS_Global\\\\MOD11A2_LST\\\\LST_Day\\\\5km\\\\Monthly\\\\LST_Day.2011.07.mean.5km.mean.tif',\n",
       " datetime.date(2011, 8, 1): '\\\\\\\\map-fs1.ndph.ox.ac.uk\\\\map_data\\\\mastergrids\\\\MODIS_Global\\\\MOD11A2_LST\\\\LST_Day\\\\5km\\\\Monthly\\\\LST_Day.2011.08.mean.5km.mean.tif',\n",
       " datetime.date(2011, 9, 1): '\\\\\\\\map-fs1.ndph.ox.ac.uk\\\\map_data\\\\mastergrids\\\\MODIS_Global\\\\MOD11A2_LST\\\\LST_Day\\\\5km\\\\Monthly\\\\LST_Day.2011.09.mean.5km.mean.tif',\n",
       " datetime.date(2011, 10, 1): '\\\\\\\\map-fs1.ndph.ox.ac.uk\\\\map_data\\\\mastergrids\\\\MODIS_Global\\\\MOD11A2_LST\\\\LST_Day\\\\5km\\\\Monthly\\\\LST_Day.2011.10.mean.5km.mean.tif',\n",
       " datetime.date(2011, 11, 1): '\\\\\\\\map-fs1.ndph.ox.ac.uk\\\\map_data\\\\mastergrids\\\\MODIS_Global\\\\MOD11A2_LST\\\\LST_Day\\\\5km\\\\Monthly\\\\LST_Day.2011.11.mean.5km.mean.tif',\n",
       " datetime.date(2011, 12, 1): '\\\\\\\\map-fs1.ndph.ox.ac.uk\\\\map_data\\\\mastergrids\\\\MODIS_Global\\\\MOD11A2_LST\\\\LST_Day\\\\5km\\\\Monthly\\\\LST_Day.2011.12.mean.5km.mean.tif',\n",
       " datetime.date(2012, 1, 1): '\\\\\\\\map-fs1.ndph.ox.ac.uk\\\\map_data\\\\mastergrids\\\\MODIS_Global\\\\MOD11A2_LST\\\\LST_Day\\\\5km\\\\Monthly\\\\LST_Day.2012.01.mean.5km.mean.tif',\n",
       " datetime.date(2012, 2, 1): '\\\\\\\\map-fs1.ndph.ox.ac.uk\\\\map_data\\\\mastergrids\\\\MODIS_Global\\\\MOD11A2_LST\\\\LST_Day\\\\5km\\\\Monthly\\\\LST_Day.2012.02.mean.5km.mean.tif',\n",
       " datetime.date(2012, 3, 1): '\\\\\\\\map-fs1.ndph.ox.ac.uk\\\\map_data\\\\mastergrids\\\\MODIS_Global\\\\MOD11A2_LST\\\\LST_Day\\\\5km\\\\Monthly\\\\LST_Day.2012.03.mean.5km.mean.tif',\n",
       " datetime.date(2012, 4, 1): '\\\\\\\\map-fs1.ndph.ox.ac.uk\\\\map_data\\\\mastergrids\\\\MODIS_Global\\\\MOD11A2_LST\\\\LST_Day\\\\5km\\\\Monthly\\\\LST_Day.2012.04.mean.5km.mean.tif',\n",
       " datetime.date(2012, 5, 1): '\\\\\\\\map-fs1.ndph.ox.ac.uk\\\\map_data\\\\mastergrids\\\\MODIS_Global\\\\MOD11A2_LST\\\\LST_Day\\\\5km\\\\Monthly\\\\LST_Day.2012.05.mean.5km.mean.tif',\n",
       " datetime.date(2012, 6, 1): '\\\\\\\\map-fs1.ndph.ox.ac.uk\\\\map_data\\\\mastergrids\\\\MODIS_Global\\\\MOD11A2_LST\\\\LST_Day\\\\5km\\\\Monthly\\\\LST_Day.2012.06.mean.5km.mean.tif',\n",
       " datetime.date(2012, 7, 1): '\\\\\\\\map-fs1.ndph.ox.ac.uk\\\\map_data\\\\mastergrids\\\\MODIS_Global\\\\MOD11A2_LST\\\\LST_Day\\\\5km\\\\Monthly\\\\LST_Day.2012.07.mean.5km.mean.tif',\n",
       " datetime.date(2012, 8, 1): '\\\\\\\\map-fs1.ndph.ox.ac.uk\\\\map_data\\\\mastergrids\\\\MODIS_Global\\\\MOD11A2_LST\\\\LST_Day\\\\5km\\\\Monthly\\\\LST_Day.2012.08.mean.5km.mean.tif',\n",
       " datetime.date(2012, 9, 1): '\\\\\\\\map-fs1.ndph.ox.ac.uk\\\\map_data\\\\mastergrids\\\\MODIS_Global\\\\MOD11A2_LST\\\\LST_Day\\\\5km\\\\Monthly\\\\LST_Day.2012.09.mean.5km.mean.tif',\n",
       " datetime.date(2012, 10, 1): '\\\\\\\\map-fs1.ndph.ox.ac.uk\\\\map_data\\\\mastergrids\\\\MODIS_Global\\\\MOD11A2_LST\\\\LST_Day\\\\5km\\\\Monthly\\\\LST_Day.2012.10.mean.5km.mean.tif',\n",
       " datetime.date(2012, 11, 1): '\\\\\\\\map-fs1.ndph.ox.ac.uk\\\\map_data\\\\mastergrids\\\\MODIS_Global\\\\MOD11A2_LST\\\\LST_Day\\\\5km\\\\Monthly\\\\LST_Day.2012.11.mean.5km.mean.tif',\n",
       " datetime.date(2012, 12, 1): '\\\\\\\\map-fs1.ndph.ox.ac.uk\\\\map_data\\\\mastergrids\\\\MODIS_Global\\\\MOD11A2_LST\\\\LST_Day\\\\5km\\\\Monthly\\\\LST_Day.2012.12.mean.5km.mean.tif',\n",
       " datetime.date(2013, 1, 1): '\\\\\\\\map-fs1.ndph.ox.ac.uk\\\\map_data\\\\mastergrids\\\\MODIS_Global\\\\MOD11A2_LST\\\\LST_Day\\\\5km\\\\Monthly\\\\LST_Day.2013.01.mean.5km.mean.tif',\n",
       " datetime.date(2013, 2, 1): '\\\\\\\\map-fs1.ndph.ox.ac.uk\\\\map_data\\\\mastergrids\\\\MODIS_Global\\\\MOD11A2_LST\\\\LST_Day\\\\5km\\\\Monthly\\\\LST_Day.2013.02.mean.5km.mean.tif',\n",
       " datetime.date(2013, 3, 1): '\\\\\\\\map-fs1.ndph.ox.ac.uk\\\\map_data\\\\mastergrids\\\\MODIS_Global\\\\MOD11A2_LST\\\\LST_Day\\\\5km\\\\Monthly\\\\LST_Day.2013.03.mean.5km.mean.tif',\n",
       " datetime.date(2013, 4, 1): '\\\\\\\\map-fs1.ndph.ox.ac.uk\\\\map_data\\\\mastergrids\\\\MODIS_Global\\\\MOD11A2_LST\\\\LST_Day\\\\5km\\\\Monthly\\\\LST_Day.2013.04.mean.5km.mean.tif',\n",
       " datetime.date(2013, 5, 1): '\\\\\\\\map-fs1.ndph.ox.ac.uk\\\\map_data\\\\mastergrids\\\\MODIS_Global\\\\MOD11A2_LST\\\\LST_Day\\\\5km\\\\Monthly\\\\LST_Day.2013.05.mean.5km.mean.tif',\n",
       " datetime.date(2013, 6, 1): '\\\\\\\\map-fs1.ndph.ox.ac.uk\\\\map_data\\\\mastergrids\\\\MODIS_Global\\\\MOD11A2_LST\\\\LST_Day\\\\5km\\\\Monthly\\\\LST_Day.2013.06.mean.5km.mean.tif',\n",
       " datetime.date(2013, 7, 1): '\\\\\\\\map-fs1.ndph.ox.ac.uk\\\\map_data\\\\mastergrids\\\\MODIS_Global\\\\MOD11A2_LST\\\\LST_Day\\\\5km\\\\Monthly\\\\LST_Day.2013.07.mean.5km.mean.tif',\n",
       " datetime.date(2013, 8, 1): '\\\\\\\\map-fs1.ndph.ox.ac.uk\\\\map_data\\\\mastergrids\\\\MODIS_Global\\\\MOD11A2_LST\\\\LST_Day\\\\5km\\\\Monthly\\\\LST_Day.2013.08.mean.5km.mean.tif',\n",
       " datetime.date(2013, 9, 1): '\\\\\\\\map-fs1.ndph.ox.ac.uk\\\\map_data\\\\mastergrids\\\\MODIS_Global\\\\MOD11A2_LST\\\\LST_Day\\\\5km\\\\Monthly\\\\LST_Day.2013.09.mean.5km.mean.tif',\n",
       " datetime.date(2013, 10, 1): '\\\\\\\\map-fs1.ndph.ox.ac.uk\\\\map_data\\\\mastergrids\\\\MODIS_Global\\\\MOD11A2_LST\\\\LST_Day\\\\5km\\\\Monthly\\\\LST_Day.2013.10.mean.5km.mean.tif',\n",
       " datetime.date(2013, 11, 1): '\\\\\\\\map-fs1.ndph.ox.ac.uk\\\\map_data\\\\mastergrids\\\\MODIS_Global\\\\MOD11A2_LST\\\\LST_Day\\\\5km\\\\Monthly\\\\LST_Day.2013.11.mean.5km.mean.tif',\n",
       " datetime.date(2013, 12, 1): '\\\\\\\\map-fs1.ndph.ox.ac.uk\\\\map_data\\\\mastergrids\\\\MODIS_Global\\\\MOD11A2_LST\\\\LST_Day\\\\5km\\\\Monthly\\\\LST_Day.2013.12.mean.5km.mean.tif',\n",
       " datetime.date(2014, 1, 1): '\\\\\\\\map-fs1.ndph.ox.ac.uk\\\\map_data\\\\mastergrids\\\\MODIS_Global\\\\MOD11A2_LST\\\\LST_Day\\\\5km\\\\Monthly\\\\LST_Day.2014.01.mean.5km.mean.tif',\n",
       " datetime.date(2014, 2, 1): '\\\\\\\\map-fs1.ndph.ox.ac.uk\\\\map_data\\\\mastergrids\\\\MODIS_Global\\\\MOD11A2_LST\\\\LST_Day\\\\5km\\\\Monthly\\\\LST_Day.2014.02.mean.5km.mean.tif',\n",
       " datetime.date(2014, 3, 1): '\\\\\\\\map-fs1.ndph.ox.ac.uk\\\\map_data\\\\mastergrids\\\\MODIS_Global\\\\MOD11A2_LST\\\\LST_Day\\\\5km\\\\Monthly\\\\LST_Day.2014.03.mean.5km.mean.tif',\n",
       " datetime.date(2014, 4, 1): '\\\\\\\\map-fs1.ndph.ox.ac.uk\\\\map_data\\\\mastergrids\\\\MODIS_Global\\\\MOD11A2_LST\\\\LST_Day\\\\5km\\\\Monthly\\\\LST_Day.2014.04.mean.5km.mean.tif',\n",
       " datetime.date(2014, 5, 1): '\\\\\\\\map-fs1.ndph.ox.ac.uk\\\\map_data\\\\mastergrids\\\\MODIS_Global\\\\MOD11A2_LST\\\\LST_Day\\\\5km\\\\Monthly\\\\LST_Day.2014.05.mean.5km.mean.tif',\n",
       " datetime.date(2014, 6, 1): '\\\\\\\\map-fs1.ndph.ox.ac.uk\\\\map_data\\\\mastergrids\\\\MODIS_Global\\\\MOD11A2_LST\\\\LST_Day\\\\5km\\\\Monthly\\\\LST_Day.2014.06.mean.5km.mean.tif',\n",
       " datetime.date(2014, 7, 1): '\\\\\\\\map-fs1.ndph.ox.ac.uk\\\\map_data\\\\mastergrids\\\\MODIS_Global\\\\MOD11A2_LST\\\\LST_Day\\\\5km\\\\Monthly\\\\LST_Day.2014.07.mean.5km.mean.tif',\n",
       " datetime.date(2014, 8, 1): '\\\\\\\\map-fs1.ndph.ox.ac.uk\\\\map_data\\\\mastergrids\\\\MODIS_Global\\\\MOD11A2_LST\\\\LST_Day\\\\5km\\\\Monthly\\\\LST_Day.2014.08.mean.5km.mean.tif',\n",
       " datetime.date(2014, 9, 1): '\\\\\\\\map-fs1.ndph.ox.ac.uk\\\\map_data\\\\mastergrids\\\\MODIS_Global\\\\MOD11A2_LST\\\\LST_Day\\\\5km\\\\Monthly\\\\LST_Day.2014.09.mean.5km.mean.tif',\n",
       " datetime.date(2014, 10, 1): '\\\\\\\\map-fs1.ndph.ox.ac.uk\\\\map_data\\\\mastergrids\\\\MODIS_Global\\\\MOD11A2_LST\\\\LST_Day\\\\5km\\\\Monthly\\\\LST_Day.2014.10.mean.5km.mean.tif',\n",
       " datetime.date(2014, 11, 1): '\\\\\\\\map-fs1.ndph.ox.ac.uk\\\\map_data\\\\mastergrids\\\\MODIS_Global\\\\MOD11A2_LST\\\\LST_Day\\\\5km\\\\Monthly\\\\LST_Day.2014.11.mean.5km.mean.tif',\n",
       " datetime.date(2014, 12, 1): '\\\\\\\\map-fs1.ndph.ox.ac.uk\\\\map_data\\\\mastergrids\\\\MODIS_Global\\\\MOD11A2_LST\\\\LST_Day\\\\5km\\\\Monthly\\\\LST_Day.2014.12.mean.5km.mean.tif',\n",
       " datetime.date(2015, 1, 1): '\\\\\\\\map-fs1.ndph.ox.ac.uk\\\\map_data\\\\mastergrids\\\\MODIS_Global\\\\MOD11A2_LST\\\\LST_Day\\\\5km\\\\Monthly\\\\LST_Day.2015.01.mean.5km.mean.tif',\n",
       " datetime.date(2015, 2, 1): '\\\\\\\\map-fs1.ndph.ox.ac.uk\\\\map_data\\\\mastergrids\\\\MODIS_Global\\\\MOD11A2_LST\\\\LST_Day\\\\5km\\\\Monthly\\\\LST_Day.2015.02.mean.5km.mean.tif',\n",
       " datetime.date(2015, 3, 1): '\\\\\\\\map-fs1.ndph.ox.ac.uk\\\\map_data\\\\mastergrids\\\\MODIS_Global\\\\MOD11A2_LST\\\\LST_Day\\\\5km\\\\Monthly\\\\LST_Day.2015.03.mean.5km.mean.tif',\n",
       " datetime.date(2015, 4, 1): '\\\\\\\\map-fs1.ndph.ox.ac.uk\\\\map_data\\\\mastergrids\\\\MODIS_Global\\\\MOD11A2_LST\\\\LST_Day\\\\5km\\\\Monthly\\\\LST_Day.2015.04.mean.5km.mean.tif',\n",
       " datetime.date(2015, 5, 1): '\\\\\\\\map-fs1.ndph.ox.ac.uk\\\\map_data\\\\mastergrids\\\\MODIS_Global\\\\MOD11A2_LST\\\\LST_Day\\\\5km\\\\Monthly\\\\LST_Day.2015.05.mean.5km.mean.tif',\n",
       " datetime.date(2015, 6, 1): '\\\\\\\\map-fs1.ndph.ox.ac.uk\\\\map_data\\\\mastergrids\\\\MODIS_Global\\\\MOD11A2_LST\\\\LST_Day\\\\5km\\\\Monthly\\\\LST_Day.2015.06.mean.5km.mean.tif',\n",
       " datetime.date(2015, 7, 1): '\\\\\\\\map-fs1.ndph.ox.ac.uk\\\\map_data\\\\mastergrids\\\\MODIS_Global\\\\MOD11A2_LST\\\\LST_Day\\\\5km\\\\Monthly\\\\LST_Day.2015.07.mean.5km.mean.tif',\n",
       " datetime.date(2015, 8, 1): '\\\\\\\\map-fs1.ndph.ox.ac.uk\\\\map_data\\\\mastergrids\\\\MODIS_Global\\\\MOD11A2_LST\\\\LST_Day\\\\5km\\\\Monthly\\\\LST_Day.2015.08.mean.5km.mean.tif',\n",
       " datetime.date(2015, 9, 1): '\\\\\\\\map-fs1.ndph.ox.ac.uk\\\\map_data\\\\mastergrids\\\\MODIS_Global\\\\MOD11A2_LST\\\\LST_Day\\\\5km\\\\Monthly\\\\LST_Day.2015.09.mean.5km.mean.tif',\n",
       " datetime.date(2015, 10, 1): '\\\\\\\\map-fs1.ndph.ox.ac.uk\\\\map_data\\\\mastergrids\\\\MODIS_Global\\\\MOD11A2_LST\\\\LST_Day\\\\5km\\\\Monthly\\\\LST_Day.2015.10.mean.5km.mean.tif',\n",
       " datetime.date(2015, 11, 1): '\\\\\\\\map-fs1.ndph.ox.ac.uk\\\\map_data\\\\mastergrids\\\\MODIS_Global\\\\MOD11A2_LST\\\\LST_Day\\\\5km\\\\Monthly\\\\LST_Day.2015.11.mean.5km.mean.tif',\n",
       " datetime.date(2015, 12, 1): '\\\\\\\\map-fs1.ndph.ox.ac.uk\\\\map_data\\\\mastergrids\\\\MODIS_Global\\\\MOD11A2_LST\\\\LST_Day\\\\5km\\\\Monthly\\\\LST_Day.2015.12.mean.5km.mean.tif',\n",
       " datetime.date(2016, 1, 1): '\\\\\\\\map-fs1.ndph.ox.ac.uk\\\\map_data\\\\mastergrids\\\\MODIS_Global\\\\MOD11A2_LST\\\\LST_Day\\\\5km\\\\Monthly\\\\LST_Day.2016.01.mean.5km.mean.tif',\n",
       " datetime.date(2016, 2, 1): '\\\\\\\\map-fs1.ndph.ox.ac.uk\\\\map_data\\\\mastergrids\\\\MODIS_Global\\\\MOD11A2_LST\\\\LST_Day\\\\5km\\\\Monthly\\\\LST_Day.2016.02.mean.5km.mean.tif',\n",
       " datetime.date(2016, 3, 1): '\\\\\\\\map-fs1.ndph.ox.ac.uk\\\\map_data\\\\mastergrids\\\\MODIS_Global\\\\MOD11A2_LST\\\\LST_Day\\\\5km\\\\Monthly\\\\LST_Day.2016.03.mean.5km.mean.tif',\n",
       " datetime.date(2016, 4, 1): '\\\\\\\\map-fs1.ndph.ox.ac.uk\\\\map_data\\\\mastergrids\\\\MODIS_Global\\\\MOD11A2_LST\\\\LST_Day\\\\5km\\\\Monthly\\\\LST_Day.2016.04.mean.5km.mean.tif',\n",
       " datetime.date(2016, 5, 1): '\\\\\\\\map-fs1.ndph.ox.ac.uk\\\\map_data\\\\mastergrids\\\\MODIS_Global\\\\MOD11A2_LST\\\\LST_Day\\\\5km\\\\Monthly\\\\LST_Day.2016.05.mean.5km.mean.tif',\n",
       " datetime.date(2016, 6, 1): '\\\\\\\\map-fs1.ndph.ox.ac.uk\\\\map_data\\\\mastergrids\\\\MODIS_Global\\\\MOD11A2_LST\\\\LST_Day\\\\5km\\\\Monthly\\\\LST_Day.2016.06.mean.5km.mean.tif',\n",
       " datetime.date(2016, 7, 1): '\\\\\\\\map-fs1.ndph.ox.ac.uk\\\\map_data\\\\mastergrids\\\\MODIS_Global\\\\MOD11A2_LST\\\\LST_Day\\\\5km\\\\Monthly\\\\LST_Day.2016.07.mean.5km.mean.tif',\n",
       " datetime.date(2016, 8, 1): '\\\\\\\\map-fs1.ndph.ox.ac.uk\\\\map_data\\\\mastergrids\\\\MODIS_Global\\\\MOD11A2_LST\\\\LST_Day\\\\5km\\\\Monthly\\\\LST_Day.2016.08.mean.5km.mean.tif',\n",
       " datetime.date(2016, 9, 1): '\\\\\\\\map-fs1.ndph.ox.ac.uk\\\\map_data\\\\mastergrids\\\\MODIS_Global\\\\MOD11A2_LST\\\\LST_Day\\\\5km\\\\Monthly\\\\LST_Day.2016.09.mean.5km.mean.tif',\n",
       " datetime.date(2016, 10, 1): '\\\\\\\\map-fs1.ndph.ox.ac.uk\\\\map_data\\\\mastergrids\\\\MODIS_Global\\\\MOD11A2_LST\\\\LST_Day\\\\5km\\\\Monthly\\\\LST_Day.2016.10.mean.5km.mean.tif',\n",
       " datetime.date(2016, 11, 1): '\\\\\\\\map-fs1.ndph.ox.ac.uk\\\\map_data\\\\mastergrids\\\\MODIS_Global\\\\MOD11A2_LST\\\\LST_Day\\\\5km\\\\Monthly\\\\LST_Day.2016.11.mean.5km.mean.tif',\n",
       " datetime.date(2016, 12, 1): '\\\\\\\\map-fs1.ndph.ox.ac.uk\\\\map_data\\\\mastergrids\\\\MODIS_Global\\\\MOD11A2_LST\\\\LST_Day\\\\5km\\\\Monthly\\\\LST_Day.2016.12.mean.5km.mean.tif'}"
      ]
     },
     "execution_count": 5,
     "metadata": {},
     "output_type": "execute_result"
    }
   ],
   "source": [
    "t.DataCube.MonthlyDictionary"
   ]
  },
  {
   "cell_type": "code",
   "execution_count": 6,
   "metadata": {
    "collapsed": false
   },
   "outputs": [
    {
     "data": {
      "text/plain": [
       "{2000: '\\\\\\\\map-fs1.ndph.ox.ac.uk\\\\map_data\\\\mastergrids\\\\MODIS_Global\\\\MOD11A2_LST\\\\LST_Day\\\\5km\\\\Annual\\\\LST_Day.2000.Annual.mean.5km.Mean.tif',\n",
       " 2001: '\\\\\\\\map-fs1.ndph.ox.ac.uk\\\\map_data\\\\mastergrids\\\\MODIS_Global\\\\MOD11A2_LST\\\\LST_Day\\\\5km\\\\Annual\\\\LST_Day.2001.Annual.mean.5km.Mean.tif',\n",
       " 2002: '\\\\\\\\map-fs1.ndph.ox.ac.uk\\\\map_data\\\\mastergrids\\\\MODIS_Global\\\\MOD11A2_LST\\\\LST_Day\\\\5km\\\\Annual\\\\LST_Day.2002.Annual.mean.5km.Mean.tif',\n",
       " 2003: '\\\\\\\\map-fs1.ndph.ox.ac.uk\\\\map_data\\\\mastergrids\\\\MODIS_Global\\\\MOD11A2_LST\\\\LST_Day\\\\5km\\\\Annual\\\\LST_Day.2003.Annual.mean.5km.Mean.tif',\n",
       " 2004: '\\\\\\\\map-fs1.ndph.ox.ac.uk\\\\map_data\\\\mastergrids\\\\MODIS_Global\\\\MOD11A2_LST\\\\LST_Day\\\\5km\\\\Annual\\\\LST_Day.2004.Annual.mean.5km.Mean.tif',\n",
       " 2005: '\\\\\\\\map-fs1.ndph.ox.ac.uk\\\\map_data\\\\mastergrids\\\\MODIS_Global\\\\MOD11A2_LST\\\\LST_Day\\\\5km\\\\Annual\\\\LST_Day.2005.Annual.mean.5km.Mean.tif',\n",
       " 2006: '\\\\\\\\map-fs1.ndph.ox.ac.uk\\\\map_data\\\\mastergrids\\\\MODIS_Global\\\\MOD11A2_LST\\\\LST_Day\\\\5km\\\\Annual\\\\LST_Day.2006.Annual.mean.5km.Mean.tif',\n",
       " 2007: '\\\\\\\\map-fs1.ndph.ox.ac.uk\\\\map_data\\\\mastergrids\\\\MODIS_Global\\\\MOD11A2_LST\\\\LST_Day\\\\5km\\\\Annual\\\\LST_Day.2007.Annual.mean.5km.Mean.tif',\n",
       " 2008: '\\\\\\\\map-fs1.ndph.ox.ac.uk\\\\map_data\\\\mastergrids\\\\MODIS_Global\\\\MOD11A2_LST\\\\LST_Day\\\\5km\\\\Annual\\\\LST_Day.2008.Annual.mean.5km.Mean.tif',\n",
       " 2009: '\\\\\\\\map-fs1.ndph.ox.ac.uk\\\\map_data\\\\mastergrids\\\\MODIS_Global\\\\MOD11A2_LST\\\\LST_Day\\\\5km\\\\Annual\\\\LST_Day.2009.Annual.mean.5km.Mean.tif',\n",
       " 2010: '\\\\\\\\map-fs1.ndph.ox.ac.uk\\\\map_data\\\\mastergrids\\\\MODIS_Global\\\\MOD11A2_LST\\\\LST_Day\\\\5km\\\\Annual\\\\LST_Day.2010.Annual.mean.5km.Mean.tif',\n",
       " 2011: '\\\\\\\\map-fs1.ndph.ox.ac.uk\\\\map_data\\\\mastergrids\\\\MODIS_Global\\\\MOD11A2_LST\\\\LST_Day\\\\5km\\\\Annual\\\\LST_Day.2011.Annual.mean.5km.Mean.tif',\n",
       " 2012: '\\\\\\\\map-fs1.ndph.ox.ac.uk\\\\map_data\\\\mastergrids\\\\MODIS_Global\\\\MOD11A2_LST\\\\LST_Day\\\\5km\\\\Annual\\\\LST_Day.2012.Annual.mean.5km.Mean.tif',\n",
       " 2013: '\\\\\\\\map-fs1.ndph.ox.ac.uk\\\\map_data\\\\mastergrids\\\\MODIS_Global\\\\MOD11A2_LST\\\\LST_Day\\\\5km\\\\Annual\\\\LST_Day.2013.Annual.mean.5km.Mean.tif',\n",
       " 2014: '\\\\\\\\map-fs1.ndph.ox.ac.uk\\\\map_data\\\\mastergrids\\\\MODIS_Global\\\\MOD11A2_LST\\\\LST_Day\\\\5km\\\\Annual\\\\LST_Day.2014.Annual.mean.5km.Mean.tif',\n",
       " 2015: '\\\\\\\\map-fs1.ndph.ox.ac.uk\\\\map_data\\\\mastergrids\\\\MODIS_Global\\\\MOD11A2_LST\\\\LST_Day\\\\5km\\\\Annual\\\\LST_Day.2015.Annual.mean.5km.Mean.tif',\n",
       " 2016: '\\\\\\\\map-fs1.ndph.ox.ac.uk\\\\map_data\\\\mastergrids\\\\MODIS_Global\\\\MOD11A2_LST\\\\LST_Day\\\\5km\\\\Annual\\\\LST_Day.2016.Annual.mean.5km.Mean.tif'}"
      ]
     },
     "execution_count": 6,
     "metadata": {},
     "output_type": "execute_result"
    }
   ],
   "source": [
    "t.DataCube.AnnualDictionary"
   ]
  },
  {
   "cell_type": "code",
   "execution_count": 8,
   "metadata": {
    "collapsed": false
   },
   "outputs": [
    {
     "data": {
      "text/plain": [
       "{}"
      ]
     },
     "execution_count": 8,
     "metadata": {},
     "output_type": "execute_result"
    }
   ],
   "source": [
    "t.DataCube.SynopticDictionary"
   ]
  }
 ],
 "metadata": {
  "kernelspec": {
   "display_name": "Python 2",
   "language": "python",
   "name": "python2"
  },
  "language_info": {
   "codemirror_mode": {
    "name": "ipython",
    "version": 2
   },
   "file_extension": ".py",
   "mimetype": "text/x-python",
   "name": "python",
   "nbconvert_exporter": "python",
   "pygments_lexer": "ipython2",
   "version": "2.7.5"
  }
 },
 "nbformat": 4,
 "nbformat_minor": 2
}
